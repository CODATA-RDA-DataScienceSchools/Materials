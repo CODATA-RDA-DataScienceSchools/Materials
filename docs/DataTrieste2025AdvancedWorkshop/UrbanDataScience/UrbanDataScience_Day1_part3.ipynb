{
  "cells": [
    {
      "cell_type": "markdown",
      "id": "00bd3c5b",
      "metadata": {
        "id": "00bd3c5b"
      },
      "source": [
        "# PART3 - Please complete PART1 and PART2 before attempting to run this code.\n",
        "\n",
        "## Now Lets make our Maps outputs more Interactive"
      ]
    },
    {
      "cell_type": "markdown",
      "id": "1265663e",
      "metadata": {
        "id": "1265663e"
      },
      "source": [
        "In this section, we will explore the use of the Folium library to create interactive maps.\n",
        "Folium is a powerful Python library built on Leaflet.js, which allows for the visualization of spatial data in a dynamic and user-friendly way.\n",
        "\n",
        "With Folium, we can:\n",
        "\n",
        "- Display geographic data on interactive maps\n",
        "\n",
        "- Add markers, popups, and overlays\n",
        "\n",
        "- Create choropleth and thematic maps\n",
        "\n",
        "- Embed maps directly within Jupyter Notebooks\n",
        "\n",
        "This makes it a valuable tool for spatial analysis, presentations, and sharing insights with non-technical audiences."
      ]
    },
    {
      "cell_type": "code",
      "execution_count": null,
      "id": "9b82813e",
      "metadata": {
        "id": "9b82813e"
      },
      "outputs": [],
      "source": [
        "import geopandas as gpd\n",
        "import folium\n",
        "\n",
        "# Load GeoJSON\n",
        "gdf = gpd.read_file(r'Urban Data Science/Day 1/Data/Austria Administrative boundaries Geojson/bezirke.json')\n",
        "\n",
        "# Reproject to a projected CRS for accurate centroid calculation\n",
        "#gdf_proj = gdf.to_crs(epsg=31287)  # Projected CRS (Austria Lambert)\n",
        "\n",
        "# Step 1: Reproject to a projected CRS for accurate centroid calculation\n",
        "gdf_proj = gdf.to_crs(epsg=31287)  # EPSG:31287 is a metric-based CRS for Austria\n",
        "\n",
        "# Step 2: Compute centroids in projected CRS, then convert back to WGS84\n",
        "centroids = gdf_proj.geometry.centroid.to_crs(epsg=4326)\n",
        "\n",
        "# Step 3: Calculate map center\n",
        "center_lat = centroids.y.mean()\n",
        "center_lon = centroids.x.mean()\n",
        "\n",
        "# Step 4: Create folium map at accurate center\n",
        "m = folium.Map(location=[center_lat, center_lon], zoom_start=7)\n",
        "\n",
        "# Step 5: Add GeoJSON layer (can be from the original gdf in WGS84)\n",
        "folium.GeoJson(gdf).add_to(m)\n",
        "\n",
        "# Step 6: Display the map\n",
        "m"
      ]
    },
    {
      "cell_type": "markdown",
      "id": "b54fecea",
      "metadata": {
        "id": "b54fecea"
      },
      "source": [
        "## Now Lets Stack multiple layers over each other"
      ]
    },
    {
      "cell_type": "code",
      "execution_count": null,
      "id": "7b27527d",
      "metadata": {
        "id": "7b27527d"
      },
      "outputs": [],
      "source": [
        "import geopandas as gpd\n",
        "import folium\n",
        "\n",
        "# Create base map\n",
        "m = folium.Map(location=[47.5162, 14.5501], zoom_start=7)  # Centered on Austria\n",
        "\n",
        "\n",
        "gdf1 = gpd.read_file(r'Urban Data Science/Day 1/Data/Austria Administrative boundaries Geojson/bezirke.json')\n",
        "gdf2 = gpd.read_file(r'Urban Data Science/Day 1/Data/Austria Administrative boundaries Geojson/gemeinden.json')\n",
        "gdf3 = gpd.read_file(r'Urban Data Science/Day 1/Data/Austria Administrative boundaries Geojson/oesterreich.json')\n",
        "gdf4 = gpd.read_file(r'Urban Data Science/Day 1/Data/Austria Administrative boundaries Geojson/wahlkreise.json')\n",
        "\n",
        "\n",
        "folium.GeoJson(gdf1, name=\"bezirke\").add_to(m)\n",
        "folium.GeoJson(gdf2, name=\"gemeinden\").add_to(m)\n",
        "folium.GeoJson(gdf3, name=\"oesterreich\").add_to(m)\n",
        "folium.GeoJson(gdf4, name=\"wahlkreise\").add_to(m)\n",
        "\n",
        "folium.LayerControl().add_to(m)\n",
        "\n",
        "\n",
        "m"
      ]
    },
    {
      "cell_type": "markdown",
      "id": "769c18a5",
      "metadata": {
        "id": "769c18a5"
      },
      "source": [
        "## Assign some different colors for better Visualization"
      ]
    },
    {
      "cell_type": "code",
      "execution_count": null,
      "id": "29ce4f1f",
      "metadata": {
        "id": "29ce4f1f"
      },
      "outputs": [],
      "source": [
        "# Create base map\n",
        "m = folium.Map(location=[47.5162, 14.5501], zoom_start=7)  # Centered on Austria\n",
        "\n",
        "#gdf1 = gpd.read_file(\"Data/Austria Administrative boundaries Geojson/bezirke.json\")\n",
        "#gdf2 = gpd.read_file(\"Data/Austria Administrative boundaries Geojson/gemeinden.json\")\n",
        "#gdf3 = gpd.read_file(\"Data/Austria Administrative boundaries Geojson/oesterreich.json\")\n",
        "#gdf4 = gpd.read_file(\"Data/Austria Administrative boundaries Geojson/wahlkreise.json\")\n",
        "\n",
        "# Add each layer with a different color\n",
        "folium.GeoJson(\n",
        "    gdf1, name=\"bezirke\",\n",
        "    style_function=lambda x: {'color': 'blue', 'weight': 2, 'fillOpacity': 0}\n",
        ").add_to(m)\n",
        "folium.GeoJson(\n",
        "    gdf2, name=\"gemeinden\",\n",
        "    style_function=lambda x: {'color': 'green', 'weight': 1, 'fillOpacity': 0}\n",
        ").add_to(m)\n",
        "folium.GeoJson(\n",
        "    gdf3, name=\"oesterreich\",\n",
        "    style_function=lambda x: {'color': 'red', 'weight': 3, 'fillOpacity': 0}\n",
        ").add_to(m)\n",
        "folium.GeoJson(\n",
        "    gdf4, name=\"wahlkreise\",\n",
        "    style_function=lambda x: {'color': 'purple', 'weight': 2, 'fillOpacity': 0}\n",
        ").add_to(m)\n",
        "\n",
        "folium.LayerControl().add_to(m)\n",
        "m"
      ]
    },
    {
      "cell_type": "markdown",
      "id": "ce2650ed",
      "metadata": {
        "id": "ce2650ed"
      },
      "source": [
        "# Also lets visualize our Buildings"
      ]
    },
    {
      "cell_type": "code",
      "source": [
        "# Remove non-serializable columns (like datetime)\n",
        "statistical_districts_clean = statistical_districts.drop(\n",
        "    columns=[col for col in statistical_districts.columns if 'datetime' in str(statistical_districts[col].dtype).lower() or 'date' in col.lower()],\n",
        "    errors='ignore'\n",
        ")\n",
        "\n",
        "buildings_clean = buildings.drop(\n",
        "    columns=[col for col in buildings.columns if 'datetime' in str(buildings[col].dtype).lower() or 'date' in col.lower()],\n",
        "    errors='ignore'\n",
        ")"
      ],
      "metadata": {
        "id": "ulgClkf5Mpwl"
      },
      "id": "ulgClkf5Mpwl",
      "execution_count": null,
      "outputs": []
    },
    {
      "cell_type": "code",
      "execution_count": null,
      "id": "d0369580",
      "metadata": {
        "id": "d0369580"
      },
      "outputs": [],
      "source": [
        "# Set up a base map centered on Linz\n",
        "m = folium.Map(location=[48.3069, 14.2858], zoom_start=12, tiles='CartoDB positron')\n",
        "\n",
        "# Add statistical districts\n",
        "folium.GeoJson(\n",
        "    data=statistical_districts_clean,\n",
        "    name='Statistical Districts',\n",
        "    style_function=lambda x: {'color': 'red', 'weight': 1, 'fillOpacity': 0}\n",
        ").add_to(m)\n",
        "\n",
        "# Add buildings\n",
        "folium.GeoJson(\n",
        "    data=buildings_clean,\n",
        "    name='Buildings',\n",
        "    style_function=lambda x: {'color': 'gray', 'weight': 0.5, 'fillOpacity': 0.5}\n",
        ").add_to(m)\n",
        "\n",
        "folium.LayerControl().add_to(m)\n",
        "m"
      ]
    },
    {
      "cell_type": "markdown",
      "source": [
        "# Try to download and create a map for a differnt city\n",
        "1. Download the shape file (Shapefile comprises of 7 files which are zipped together)\n",
        "2. Check the data in the file (Number of rows and columns)\n",
        "3. Convert it into json format\n",
        "4. Check the projection system, reproject if needed\n",
        "5. Create static and dynamic map (with all elements of the map)"
      ],
      "metadata": {
        "id": "NCi-2LE4kUpj"
      },
      "id": "NCi-2LE4kUpj"
    }
  ],
  "metadata": {
    "kernelspec": {
      "display_name": "base",
      "language": "python",
      "name": "python3"
    },
    "language_info": {
      "codemirror_mode": {
        "name": "ipython",
        "version": 3
      },
      "file_extension": ".py",
      "mimetype": "text/x-python",
      "name": "python",
      "nbconvert_exporter": "python",
      "pygments_lexer": "ipython3",
      "version": "3.12.3"
    },
    "colab": {
      "provenance": []
    }
  },
  "nbformat": 4,
  "nbformat_minor": 5
}