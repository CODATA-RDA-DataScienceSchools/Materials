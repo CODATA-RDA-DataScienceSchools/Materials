{
 "cells": [
  {
   "cell_type": "markdown",
   "metadata": {},
   "source": [
    "# Changing Types"
   ]
  },
  {
   "cell_type": "code",
   "execution_count": null,
   "metadata": {},
   "outputs": [],
   "source": [
    "import pandas as pd\n",
    "# Note: Update the relative path to the data\n",
    "my_data_missing = pd.read_csv(\"../data/tmdb-movies-missing.csv\")"
   ]
  },
  {
   "cell_type": "markdown",
   "metadata": {
    "vscode": {
     "languageId": "plaintext"
    }
   },
   "source": [
    "1. Try converting the column `runtime` to floats."
   ]
  },
  {
   "cell_type": "code",
   "execution_count": null,
   "metadata": {},
   "outputs": [],
   "source": [
    "my_data_missing['runtime'].astype(\"float\")"
   ]
  },
  {
   "cell_type": "markdown",
   "metadata": {},
   "source": [
    "2. Convert the `vote_average` variable to an integer. What goes wrong here? What is pandas telling you?"
   ]
  },
  {
   "cell_type": "code",
   "execution_count": null,
   "metadata": {},
   "outputs": [],
   "source": [
    "my_data_missing['budget'].astype(\"int\")\n",
    "my_data_missing\n",
    "\n",
    "# IntCastingNaNError\n",
    "# Pandas cannot convert types from float to int if the column contains NaN values."
   ]
  },
  {
   "cell_type": "markdown",
   "metadata": {},
   "source": [
    "3. Try to remove the missing values from the `budget` column using `isnull` or `isna()` with `~` (i.e. only keep values that are not null) and convert it to integers."
   ]
  },
  {
   "cell_type": "code",
   "execution_count": null,
   "metadata": {},
   "outputs": [],
   "source": [
    "# Option 1\n",
    "budget_complete = my_data_missing[~(my_data_missing['budget'].isnull())]\n",
    "budget_complete['budget'].astype('int')\n",
    "\n",
    "# Option 2\n",
    "budget_complete = my_data_missing[~(my_data_missing['budget'].isna())]\n",
    "budget_complete['budget'].astype('int')"
   ]
  }
 ],
 "metadata": {
  "kernelspec": {
   "display_name": "Python 3",
   "language": "python",
   "name": "python3"
  },
  "language_info": {
   "codemirror_mode": {
    "name": "ipython",
    "version": 3
   },
   "file_extension": ".py",
   "mimetype": "text/x-python",
   "name": "python",
   "nbconvert_exporter": "python",
   "pygments_lexer": "ipython3",
   "version": "3.10.12"
  }
 },
 "nbformat": 4,
 "nbformat_minor": 2
}
