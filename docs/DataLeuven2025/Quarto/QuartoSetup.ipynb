{
 "cells": [
  {
   "cell_type": "code",
   "execution_count": null,
   "metadata": {},
   "outputs": [],
   "source": [
    "from google.colab import drive\n",
    "drive.mount('/content/drive')\n",
    "import os\n",
    "os.chdir(\"/content/drive/MyDrive/Colab Notebooks/Quarto\")\n"
   ]
  },
  {
   "cell_type": "code",
   "execution_count": null,
   "metadata": {
    "colab": {
     "base_uri": "https://localhost:8080/"
    },
    "executionInfo": {
     "elapsed": 9499,
     "status": "ok",
     "timestamp": 1752148735207,
     "user": {
      "displayName": "Hugh Shanahan",
      "userId": "10136981892703659682"
     },
     "user_tz": -60
    },
    "id": "kRtVFixHtn46",
    "outputId": "a80eb778-cafa-43ef-98f7-55ced90cc6b5"
   },
   "outputs": [],
   "source": [
    "!pip install quarto"
   ]
  },
  {
   "cell_type": "code",
   "execution_count": null,
   "metadata": {
    "colab": {
     "base_uri": "https://localhost:8080/"
    },
    "executionInfo": {
     "elapsed": 70917,
     "status": "ok",
     "timestamp": 1752148806126,
     "user": {
      "displayName": "Hugh Shanahan",
      "userId": "10136981892703659682"
     },
     "user_tz": -60
    },
    "id": "W1J47wVivF1J",
    "outputId": "2ca7f142-79ae-4dca-92a8-d347a179972a"
   },
   "outputs": [],
   "source": [
    "!pip install quarto-cli"
   ]
  },
  {
   "cell_type": "code",
   "execution_count": null,
   "metadata": {
    "colab": {
     "base_uri": "https://localhost:8080/"
    },
    "executionInfo": {
     "elapsed": 28058,
     "status": "ok",
     "timestamp": 1752148834195,
     "user": {
      "displayName": "Hugh Shanahan",
      "userId": "10136981892703659682"
     },
     "user_tz": -60
    },
    "id": "CyiMqxYC1W6T",
    "outputId": "6348f678-fb1e-45b0-9393-acb85fc43054"
   },
   "outputs": [],
   "source": [
    "!quarto install tinytex\n"
   ]
  }
 ],
 "metadata": {
  "colab": {
   "authorship_tag": "ABX9TyMQ8Y58TwlAdOIl3Rc70TLJ",
   "mount_file_id": "18EGq9nxPblILNLmLYqKph-P_2kWH8s8M",
   "provenance": []
  },
  "kernelspec": {
   "display_name": "Python 3 (ipykernel)",
   "language": "python",
   "name": "python3"
  },
  "language_info": {
   "codemirror_mode": {
    "name": "ipython",
    "version": 3
   },
   "file_extension": ".py",
   "mimetype": "text/x-python",
   "name": "python",
   "nbconvert_exporter": "python",
   "pygments_lexer": "ipython3",
   "version": "3.12.7"
  }
 },
 "nbformat": 4,
 "nbformat_minor": 4
}
