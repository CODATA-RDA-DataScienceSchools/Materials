{
 "cells": [
  {
   "cell_type": "markdown",
   "id": "74b73738",
   "metadata": {},
   "source": [
    "# Saving and Retrieving a Pre-trained model"
   ]
  },
  {
   "cell_type": "markdown",
   "id": "43ceff25",
   "metadata": {},
   "source": [
    "In this example we will use the [Support Vector Machine Machine Learning Algorithm](https://en.wikipedia.org/wiki/Support_vector_machine). The `svm()` function is defined within the `e1071`package, thus, we first need to load it:"
   ]
  },
  {
   "cell_type": "code",
   "execution_count": 18,
   "id": "e6bcb5a3",
   "metadata": {},
   "outputs": [],
   "source": [
    "library(\"e1071\")"
   ]
  },
  {
   "cell_type": "markdown",
   "id": "7bdd7583",
   "metadata": {},
   "source": [
    "## Loading the Data"
   ]
  },
  {
   "cell_type": "markdown",
   "id": "7aa4f019",
   "metadata": {},
   "source": [
    "We will use the [Iris dataset](https://archive.ics.uci.edu/dataset/53/iris) for this classification problem. Thi is a small classic dataset. One of the earliest datasets used for evaluation of classification methodologies.\n",
    "\n",
    "The dataset is composed of the following variables:\n",
    "\n",
    "1. sepal length in cm\n",
    "2. sepal width in cm\n",
    "3. petal length in cm\n",
    "4. petal width in cm\n",
    "5. class: \n",
    "  - Iris Setosa\n",
    "  - Iris Versicolour\n",
    "  - Iris Virginica"
   ]
  },
  {
   "cell_type": "code",
   "execution_count": 19,
   "id": "46665180",
   "metadata": {},
   "outputs": [],
   "source": [
    "data(iris)"
   ]
  },
  {
   "cell_type": "code",
   "execution_count": 20,
   "id": "7017d459",
   "metadata": {},
   "outputs": [
    {
     "name": "stdout",
     "output_type": "stream",
     "text": [
      "'data.frame':\t150 obs. of  5 variables:\n",
      " $ Sepal.Length: num  5.1 4.9 4.7 4.6 5 5.4 4.6 5 4.4 4.9 ...\n",
      " $ Sepal.Width : num  3.5 3 3.2 3.1 3.6 3.9 3.4 3.4 2.9 3.1 ...\n",
      " $ Petal.Length: num  1.4 1.4 1.3 1.5 1.4 1.7 1.4 1.5 1.4 1.5 ...\n",
      " $ Petal.Width : num  0.2 0.2 0.2 0.2 0.2 0.4 0.3 0.2 0.2 0.1 ...\n",
      " $ Species     : Factor w/ 3 levels \"setosa\",\"versicolor\",..: 1 1 1 1 1 1 1 1 1 1 ...\n"
     ]
    }
   ],
   "source": [
    "str(iris) "
   ]
  },
  {
   "cell_type": "code",
   "execution_count": 21,
   "id": "62faa419",
   "metadata": {},
   "outputs": [
    {
     "data": {
      "text/html": [
       "<table>\n",
       "<thead><tr><th scope=col>Sepal.Length</th><th scope=col>Sepal.Width</th><th scope=col>Petal.Length</th><th scope=col>Petal.Width</th><th scope=col>Species</th></tr></thead>\n",
       "<tbody>\n",
       "\t<tr><td>5.1   </td><td>3.5   </td><td>1.4   </td><td>0.2   </td><td>setosa</td></tr>\n",
       "\t<tr><td>4.9   </td><td>3.0   </td><td>1.4   </td><td>0.2   </td><td>setosa</td></tr>\n",
       "\t<tr><td>4.7   </td><td>3.2   </td><td>1.3   </td><td>0.2   </td><td>setosa</td></tr>\n",
       "\t<tr><td>4.6   </td><td>3.1   </td><td>1.5   </td><td>0.2   </td><td>setosa</td></tr>\n",
       "\t<tr><td>5.0   </td><td>3.6   </td><td>1.4   </td><td>0.2   </td><td>setosa</td></tr>\n",
       "</tbody>\n",
       "</table>\n"
      ],
      "text/latex": [
       "\\begin{tabular}{r|lllll}\n",
       " Sepal.Length & Sepal.Width & Petal.Length & Petal.Width & Species\\\\\n",
       "\\hline\n",
       "\t 5.1    & 3.5    & 1.4    & 0.2    & setosa\\\\\n",
       "\t 4.9    & 3.0    & 1.4    & 0.2    & setosa\\\\\n",
       "\t 4.7    & 3.2    & 1.3    & 0.2    & setosa\\\\\n",
       "\t 4.6    & 3.1    & 1.5    & 0.2    & setosa\\\\\n",
       "\t 5.0    & 3.6    & 1.4    & 0.2    & setosa\\\\\n",
       "\\end{tabular}\n"
      ],
      "text/markdown": [
       "\n",
       "| Sepal.Length | Sepal.Width | Petal.Length | Petal.Width | Species |\n",
       "|---|---|---|---|---|\n",
       "| 5.1    | 3.5    | 1.4    | 0.2    | setosa |\n",
       "| 4.9    | 3.0    | 1.4    | 0.2    | setosa |\n",
       "| 4.7    | 3.2    | 1.3    | 0.2    | setosa |\n",
       "| 4.6    | 3.1    | 1.5    | 0.2    | setosa |\n",
       "| 5.0    | 3.6    | 1.4    | 0.2    | setosa |\n",
       "\n"
      ],
      "text/plain": [
       "  Sepal.Length Sepal.Width Petal.Length Petal.Width Species\n",
       "1 5.1          3.5         1.4          0.2         setosa \n",
       "2 4.9          3.0         1.4          0.2         setosa \n",
       "3 4.7          3.2         1.3          0.2         setosa \n",
       "4 4.6          3.1         1.5          0.2         setosa \n",
       "5 5.0          3.6         1.4          0.2         setosa "
      ]
     },
     "metadata": {},
     "output_type": "display_data"
    }
   ],
   "source": [
    "head(iris,5)"
   ]
  },
  {
   "cell_type": "markdown",
   "id": "66371ae2",
   "metadata": {},
   "source": [
    "We will split the dataset into two partitions, one for training and the other for testing:"
   ]
  },
  {
   "cell_type": "code",
   "execution_count": 22,
   "id": "3d96afbb",
   "metadata": {},
   "outputs": [],
   "source": [
    "train = sample(1:nrow(iris), round(nrow(iris)*0.75)) "
   ]
  },
  {
   "cell_type": "code",
   "execution_count": 23,
   "id": "ce6933f0",
   "metadata": {},
   "outputs": [],
   "source": [
    "train_iris = iris[train, ]\n",
    "test_iris = iris[-train,]"
   ]
  },
  {
   "cell_type": "markdown",
   "id": "ea3ace0d",
   "metadata": {},
   "source": [
    "## Model Building"
   ]
  },
  {
   "cell_type": "markdown",
   "id": "6f1d7a64",
   "metadata": {},
   "source": [
    "SVM can use [several kernels](https://www.rdocumentation.org/packages/e1071/versions/1.7-13/topics/svm). For our example we will use the most simple one, the `linear`."
   ]
  },
  {
   "cell_type": "code",
   "execution_count": 24,
   "id": "90fb49cc",
   "metadata": {},
   "outputs": [],
   "source": [
    "svm1 = svm(Species ~., data = train_iris, kernel = 'linear')"
   ]
  },
  {
   "cell_type": "code",
   "execution_count": 25,
   "id": "a7f86c37",
   "metadata": {},
   "outputs": [
    {
     "data": {
      "text/plain": [
       "\n",
       "Call:\n",
       "svm(formula = Species ~ ., data = train_iris, kernel = \"linear\")\n",
       "\n",
       "\n",
       "Parameters:\n",
       "   SVM-Type:  C-classification \n",
       " SVM-Kernel:  linear \n",
       "       cost:  1 \n",
       "      gamma:  0.25 \n",
       "\n",
       "Number of Support Vectors:  24\n",
       "\n",
       " ( 12 10 2 )\n",
       "\n",
       "\n",
       "Number of Classes:  3 \n",
       "\n",
       "Levels: \n",
       " setosa versicolor virginica\n",
       "\n",
       "\n"
      ]
     },
     "metadata": {},
     "output_type": "display_data"
    }
   ],
   "source": [
    "summary(svm1)"
   ]
  },
  {
   "cell_type": "markdown",
   "id": "a27f6fdf",
   "metadata": {},
   "source": [
    "We will create a plot to show the decision boundary for this classifier"
   ]
  },
  {
   "cell_type": "code",
   "execution_count": 26,
   "id": "5b9bf2c5",
   "metadata": {},
   "outputs": [
    {
     "data": {
      "image/png": "[encoded data removed]",
      "text/plain": [
       "Plot with title “SVM classification plot”"
      ]
     },
     "metadata": {},
     "output_type": "display_data"
    }
   ],
   "source": [
    "plot(svm1, train_iris, Petal.Width ~ Petal.Length, slice = list(Sepal.Width=3, Sepal.Length=4))"
   ]
  },
  {
   "cell_type": "markdown",
   "id": "370a1868",
   "metadata": {},
   "source": [
    "Visualizing the effect of the predictor variables Petal.Length and Petal.Width on the response while keeping Sepal.Width and Sepal.Length constant at the specified values."
   ]
  },
  {
   "cell_type": "markdown",
   "id": "dc0d6c05",
   "metadata": {},
   "source": [
    "Now it is time to evaluate the performance level of our classifier"
   ]
  },
  {
   "cell_type": "code",
   "execution_count": 27,
   "id": "a2396e20",
   "metadata": {},
   "outputs": [],
   "source": [
    "pred = predict(svm1, test_iris)"
   ]
  },
  {
   "cell_type": "code",
   "execution_count": 28,
   "id": "e7267718",
   "metadata": {},
   "outputs": [],
   "source": [
    "library(caret)"
   ]
  },
  {
   "cell_type": "code",
   "execution_count": 29,
   "id": "c43dd80a",
   "metadata": {},
   "outputs": [
    {
     "data": {
      "text/plain": [
       "Confusion Matrix and Statistics\n",
       "\n",
       "            Reference\n",
       "Prediction   setosa versicolor virginica\n",
       "  setosa         11          0         0\n",
       "  versicolor      0         13         0\n",
       "  virginica       0          0        14\n",
       "\n",
       "Overall Statistics\n",
       "                                     \n",
       "               Accuracy : 1          \n",
       "                 95% CI : (0.9075, 1)\n",
       "    No Information Rate : 0.3684     \n",
       "    P-Value [Acc > NIR] : < 2.2e-16  \n",
       "                                     \n",
       "                  Kappa : 1          \n",
       "                                     \n",
       " Mcnemar's Test P-Value : NA         \n",
       "\n",
       "Statistics by Class:\n",
       "\n",
       "                     Class: setosa Class: versicolor Class: virginica\n",
       "Sensitivity                 1.0000            1.0000           1.0000\n",
       "Specificity                 1.0000            1.0000           1.0000\n",
       "Pos Pred Value              1.0000            1.0000           1.0000\n",
       "Neg Pred Value              1.0000            1.0000           1.0000\n",
       "Prevalence                  0.2895            0.3421           0.3684\n",
       "Detection Rate              0.2895            0.3421           0.3684\n",
       "Detection Prevalence        0.2895            0.3421           0.3684\n",
       "Balanced Accuracy           1.0000            1.0000           1.0000"
      ]
     },
     "metadata": {},
     "output_type": "display_data"
    }
   ],
   "source": [
    "confusionMatrix(test_iris$Species, pred)"
   ]
  },
  {
   "cell_type": "markdown",
   "id": "c92fecdc",
   "metadata": {},
   "source": [
    "## Save model to File"
   ]
  },
  {
   "cell_type": "markdown",
   "id": "febf76b3",
   "metadata": {},
   "source": [
    "We are going to use the [RDS](https://www.r-bloggers.com/2016/12/remember-to-use-the-rds-format/) format to save our pre-trained model object. This format compacts the object into a file."
   ]
  },
  {
   "cell_type": "code",
   "execution_count": 30,
   "id": "6bb397ad",
   "metadata": {},
   "outputs": [],
   "source": [
    "saveRDS(svm1, \"model.rds\")"
   ]
  },
  {
   "cell_type": "markdown",
   "id": "6c744bba",
   "metadata": {},
   "source": [
    "## Reading a pre-trained model"
   ]
  },
  {
   "cell_type": "markdown",
   "id": "97e15f1b",
   "metadata": {},
   "source": [
    "Now, if we want to load a pre-trained model saved in `RDS` format we have to run:"
   ]
  },
  {
   "cell_type": "code",
   "execution_count": 31,
   "id": "080e6671",
   "metadata": {},
   "outputs": [],
   "source": [
    "my_model <- readRDS(\"model.rds\")"
   ]
  },
  {
   "cell_type": "markdown",
   "id": "db96a9c9",
   "metadata": {},
   "source": [
    "... and from the pre-trained model we can do inferences"
   ]
  },
  {
   "cell_type": "code",
   "execution_count": 32,
   "id": "6937938c",
   "metadata": {},
   "outputs": [],
   "source": [
    "pred2 <- predict(my_model, test_iris)"
   ]
  },
  {
   "cell_type": "code",
   "execution_count": 33,
   "id": "a9e2e3cf",
   "metadata": {},
   "outputs": [
    {
     "data": {
      "text/plain": [
       "Confusion Matrix and Statistics\n",
       "\n",
       "            Reference\n",
       "Prediction   setosa versicolor virginica\n",
       "  setosa         11          0         0\n",
       "  versicolor      0         13         0\n",
       "  virginica       0          0        14\n",
       "\n",
       "Overall Statistics\n",
       "                                     \n",
       "               Accuracy : 1          \n",
       "                 95% CI : (0.9075, 1)\n",
       "    No Information Rate : 0.3684     \n",
       "    P-Value [Acc > NIR] : < 2.2e-16  \n",
       "                                     \n",
       "                  Kappa : 1          \n",
       "                                     \n",
       " Mcnemar's Test P-Value : NA         \n",
       "\n",
       "Statistics by Class:\n",
       "\n",
       "                     Class: setosa Class: versicolor Class: virginica\n",
       "Sensitivity                 1.0000            1.0000           1.0000\n",
       "Specificity                 1.0000            1.0000           1.0000\n",
       "Pos Pred Value              1.0000            1.0000           1.0000\n",
       "Neg Pred Value              1.0000            1.0000           1.0000\n",
       "Prevalence                  0.2895            0.3421           0.3684\n",
       "Detection Rate              0.2895            0.3421           0.3684\n",
       "Detection Prevalence        0.2895            0.3421           0.3684\n",
       "Balanced Accuracy           1.0000            1.0000           1.0000"
      ]
     },
     "metadata": {},
     "output_type": "display_data"
    }
   ],
   "source": [
    "confusionMatrix(test_iris$Species, pred2)"
   ]
  }
 ],
 "metadata": {
  "kernelspec": {
   "display_name": "R",
   "language": "R",
   "name": "ir"
  },
  "language_info": {
   "codemirror_mode": "r",
   "file_extension": ".r",
   "mimetype": "text/x-r-source",
   "name": "R",
   "pygments_lexer": "r",
   "version": "3.6.1"
  }
 },
 "nbformat": 4,
 "nbformat_minor": 5
}
