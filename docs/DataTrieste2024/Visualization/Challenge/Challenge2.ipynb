{
 "cells": [
  {
   "cell_type": "markdown",
   "id": "ddbb4ac6-f2c8-42c7-b76f-c608b1de0f9d",
   "metadata": {},
   "source": [
    "# <span style=\"color:red\">**Challenge 2**</span>\n",
    "\n",
    "1. Plot the distributions of GDP per capita separately for each continent.\n",
    "\n",
    "\n"
   ]
  },
  {
   "cell_type": "code",
   "execution_count": null,
   "id": "d9f5d601-3f16-46c4-8b3e-3bbf2e91f902",
   "metadata": {},
   "outputs": [],
   "source": []
  },
  {
   "cell_type": "markdown",
   "id": "3f1eb4ec-7ff2-4acc-8b2f-eedaa7076955",
   "metadata": {},
   "source": [
    "2. Transform the x-axis to a log scale and add another layer for the log transformation."
   ]
  },
  {
   "cell_type": "code",
   "execution_count": null,
   "id": "3e914420-3ff9-4df4-8000-e50a9f459a15",
   "metadata": {},
   "outputs": [],
   "source": []
  },
  {
   "cell_type": "markdown",
   "id": "d49e725d-ca82-4355-a45b-770d0f55d29a",
   "metadata": {},
   "source": [
    "3. Create boxplots of GDP per capita by continent, with and without a log scale."
   ]
  },
  {
   "cell_type": "code",
   "execution_count": null,
   "id": "a6076540-6c6c-4e34-aac7-065c1a914f44",
   "metadata": {},
   "outputs": [],
   "source": []
  }
 ],
 "metadata": {
  "kernelspec": {
   "display_name": "Python 3 (ipykernel)",
   "language": "python",
   "name": "python3"
  },
  "language_info": {
   "codemirror_mode": {
    "name": "ipython",
    "version": 3
   },
   "file_extension": ".py",
   "mimetype": "text/x-python",
   "name": "python",
   "nbconvert_exporter": "python",
   "pygments_lexer": "ipython3",
   "version": "3.9.6"
  }
 },
 "nbformat": 4,
 "nbformat_minor": 5
}
