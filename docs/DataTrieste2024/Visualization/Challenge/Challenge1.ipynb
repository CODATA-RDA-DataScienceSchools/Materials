{
 "cells": [
  {
   "cell_type": "markdown",
   "id": "2fc728c5-e589-45d3-bbd6-56b834af4de6",
   "metadata": {},
   "source": [
    " # <span style=\"color:red\">**Challenge 1**</span>\n",
    "\n",
    " \n",
    "1. Remove the legend from this plot\n",
    "\n"
   ]
  },
  {
   "cell_type": "code",
   "execution_count": null,
   "id": "14d79d8f-abb0-44da-8117-51157e0e355f",
   "metadata": {},
   "outputs": [],
   "source": []
  },
  {
   "cell_type": "markdown",
   "id": "2c18e24a-c852-4193-b37d-862bf056c778",
   "metadata": {},
   "source": [
    "2. Make the plot horizontal"
   ]
  },
  {
   "cell_type": "code",
   "execution_count": null,
   "id": "f7682736-f0b9-4e49-8471-0f84a702dee6",
   "metadata": {},
   "outputs": [],
   "source": []
  },
  {
   "cell_type": "markdown",
   "id": "b0eb5ac7-6373-4123-af56-cfb9ebc720ed",
   "metadata": {},
   "source": [
    "3. Instead of a boxplot, try geom_violin()"
   ]
  },
  {
   "cell_type": "code",
   "execution_count": null,
   "id": "36deb80b-48c5-46df-bc36-3baa094d4564",
   "metadata": {},
   "outputs": [],
   "source": []
  }
 ],
 "metadata": {
  "kernelspec": {
   "display_name": "Python 3 (ipykernel)",
   "language": "python",
   "name": "python3"
  },
  "language_info": {
   "codemirror_mode": {
    "name": "ipython",
    "version": 3
   },
   "file_extension": ".py",
   "mimetype": "text/x-python",
   "name": "python",
   "nbconvert_exporter": "python",
   "pygments_lexer": "ipython3",
   "version": "3.9.6"
  }
 },
 "nbformat": 4,
 "nbformat_minor": 5
}
