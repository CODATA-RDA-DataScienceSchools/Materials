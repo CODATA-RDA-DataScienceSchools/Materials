{
 "cells": [
  {
   "cell_type": "markdown",
   "id": "eb3f03f7-34bb-4bb5-94a4-9b8910f06e40",
   "metadata": {},
   "source": [
    "### <span style=\"color:red\">**Challenge 3**</span>\n",
    "\n",
    "Make a plot of life expectancy vs. GDP per capita for China and India, with both lines and points.\n"
   ]
  },
  {
   "cell_type": "code",
   "execution_count": null,
   "id": "3d77e19d-5fc3-4fc0-aa16-2fbfbaa403f7",
   "metadata": {},
   "outputs": [],
   "source": []
  }
 ],
 "metadata": {
  "kernelspec": {
   "display_name": "Python 3 (ipykernel)",
   "language": "python",
   "name": "python3"
  },
  "language_info": {
   "codemirror_mode": {
    "name": "ipython",
    "version": 3
   },
   "file_extension": ".py",
   "mimetype": "text/x-python",
   "name": "python",
   "nbconvert_exporter": "python",
   "pygments_lexer": "ipython3",
   "version": "3.9.6"
  }
 },
 "nbformat": 4,
 "nbformat_minor": 5
}
