{
  "cells": [
    {
      "cell_type": "markdown",
      "id": "4989b851",
      "metadata": {
        "id": "4989b851"
      },
      "source": [
        "# IMPLEMENTING A BASIC RECOMMENDER\n",
        "\n",
        "## Instructor: Ekpe Okorafor\n",
        "## The CODATA-RDA School for Research Data Science¶\n",
        "\n",
        "\n",
        "## Introduction:\n",
        "\n",
        "In this Hands-On Exercise, you will build a movie recommendation engine. You will use both the Content-based Filtering approach and the Collaborative Filtering approach to build a basic movie recommendation engine.\n",
        "\n",
        "### The Dataset\n",
        "\n",
        "The dataset used was from MovieLens, and is publicly available here (https://files.grouplens.org/datasets/movielens/ml-latest-small.zip).\n",
        "\n",
        "In a bid to keep the recommender simple, we will use the smallest dataset available (ml-latest-small.zip)\n",
        "\n"
      ]
    },
    {
      "cell_type": "markdown",
      "id": "b9f4e9d9",
      "metadata": {
        "id": "b9f4e9d9"
      },
      "source": [
        "## Exercise #1:\n",
        "\n",
        " 1. Download, save and extract files\n",
        "\n",
        " 2. Note the location of where the files are. You will need the path shortly\n",
        "\n",
        " 3. Examine the files (movies & ratings) in Excel or spreadsheet program to get a sense of the file structures\n",
        "\n",
        " 4. You can delete the timestamp column in the ratings csv file\n",
        "\n",
        " 5. Explore the structure of the files\n",
        "\n"
      ]
    },
    {
      "cell_type": "markdown",
      "id": "2f08af7b",
      "metadata": {
        "id": "2f08af7b"
      },
      "source": [
        "## 1. Import Necessary Libraries"
      ]
    },
    {
      "cell_type": "code",
      "execution_count": 1,
      "id": "f2b6857f",
      "metadata": {
        "id": "f2b6857f"
      },
      "outputs": [],
      "source": [
        "import pandas as pd\n",
        "import numpy as np\n",
        "import matplotlib.pyplot as plt\n",
        "import seaborn as sns\n",
        "from sklearn.metrics.pairwise import cosine_similarity\n",
        "from sklearn.feature_extraction.text import TfidfVectorizer\n",
        "from sklearn.model_selection import train_test_split\n",
        "from sklearn.metrics import mean_squared_error\n",
        "from scipy.sparse import csr_matrix\n",
        "from scipy.sparse.linalg import svds\n"
      ]
    },
    {
      "cell_type": "markdown",
      "id": "7db97437",
      "metadata": {
        "id": "7db97437"
      },
      "source": [
        "## 2. Load the Dataset"
      ]
    },
    {
      "cell_type": "code",
      "execution_count": 3,
      "id": "4e626144",
      "metadata": {
        "id": "4e626144"
      },
      "outputs": [],
      "source": [
        "# Load the Ratings Data\n",
        "ratings = pd.read_csv('ratings.csv')\n",
        "\n",
        "# Load the Movies Data\n",
        "movies = pd.read_csv('movies.csv')"
      ]
    },
    {
      "cell_type": "code",
      "source": [
        "from google.colab import drive\n",
        "drive.mount('/content/drive')"
      ],
      "metadata": {
        "id": "mANCmoB4A4MU"
      },
      "id": "mANCmoB4A4MU",
      "execution_count": null,
      "outputs": []
    },
    {
      "cell_type": "markdown",
      "id": "4c8e1669",
      "metadata": {
        "id": "4c8e1669"
      },
      "source": [
        "## 3. Explore the Structure of the Files"
      ]
    },
    {
      "cell_type": "markdown",
      "id": "4da3c155",
      "metadata": {
        "id": "4da3c155"
      },
      "source": [
        "### Step 1: Movies Dataset"
      ]
    },
    {
      "cell_type": "code",
      "execution_count": null,
      "id": "a5aabcef",
      "metadata": {
        "id": "a5aabcef"
      },
      "outputs": [],
      "source": [
        "# Display the structure of the movies dataset\n",
        "print(f'Movies Dataset: {movies.shape[0]} rows and {movies.shape[1]} columns')\n",
        "print(movies.info())\n",
        "print(movies.head())\n"
      ]
    },
    {
      "cell_type": "markdown",
      "id": "b27af8a6",
      "metadata": {
        "id": "b27af8a6"
      },
      "source": [
        "### Step 2: Ratings Dataset"
      ]
    },
    {
      "cell_type": "code",
      "execution_count": null,
      "id": "79cb8ddd",
      "metadata": {
        "id": "79cb8ddd"
      },
      "outputs": [],
      "source": [
        "# Display the structure of the ratings dataset\n",
        "print(f'Ratings Dataset: {ratings.shape[0]} rows and {ratings.shape[1]} columns')\n",
        "print(ratings.info())\n",
        "print(ratings.head())\n"
      ]
    },
    {
      "cell_type": "markdown",
      "id": "326c6c76",
      "metadata": {
        "id": "326c6c76"
      },
      "source": [
        "### Step 3.  Display the first few rows of both Datasets"
      ]
    },
    {
      "cell_type": "code",
      "execution_count": null,
      "id": "dc511990",
      "metadata": {
        "id": "dc511990"
      },
      "outputs": [],
      "source": [
        "# Display the first few rows of both datasets\n",
        "\n",
        "print(ratings.head())\n",
        "print(movies.head())"
      ]
    },
    {
      "cell_type": "markdown",
      "id": "dab24d2e",
      "metadata": {
        "id": "dab24d2e"
      },
      "source": [
        "## 4. Cool Visualizations\n",
        "\n",
        "## Exercise #2:\n",
        "\n",
        "Yesterday, you did visualizations in Python. Now is your time to brag about your awesome visualization skills. Let us see who comes up with the coolest innovative visualizations from the ratings dataset.\n",
        "\n",
        " 1. Create a basic histogram with count on the y-axis and unique ratings on the x-axis\n",
        " 2. Now, wow us! – Do your thing, create an amazing visualization\n",
        " 3. Here below are simple examples to get you started!\n",
        "\n"
      ]
    },
    {
      "cell_type": "markdown",
      "id": "cc7b858e",
      "metadata": {
        "id": "cc7b858e"
      },
      "source": [
        "### Step 1: Distribution of Movie Ratings"
      ]
    },
    {
      "cell_type": "code",
      "execution_count": null,
      "id": "02d7db6f",
      "metadata": {
        "id": "02d7db6f"
      },
      "outputs": [],
      "source": [
        "plt.figure(figsize=(10, 6))\n",
        "sns.histplot(ratings['rating'], bins=20, kde=False, color='blue')\n",
        "plt.title('Distribution of Movie Ratings')\n",
        "plt.xlabel('Rating')\n",
        "plt.ylabel('Count')\n",
        "plt.show()\n"
      ]
    },
    {
      "cell_type": "markdown",
      "id": "b31d3578",
      "metadata": {
        "id": "b31d3578"
      },
      "source": [
        "### Step 2: Number of Ratings per Movie"
      ]
    },
    {
      "cell_type": "code",
      "execution_count": null,
      "id": "74693975",
      "metadata": {
        "id": "74693975"
      },
      "outputs": [],
      "source": [
        "# Count the number of ratings per movie\n",
        "ratings_per_movie = ratings.groupby('movieId').size().sort_values(ascending=False)\n",
        "\n",
        "plt.figure(figsize=(10, 6))\n",
        "sns.histplot(ratings_per_movie, bins=50, kde=False, color='orange')\n",
        "plt.title('Number of Ratings per Movie')\n",
        "plt.xlabel('Number of Ratings')\n",
        "plt.ylabel('Count of Movies')\n",
        "plt.yscale('log')\n",
        "plt.show()\n"
      ]
    },
    {
      "cell_type": "markdown",
      "id": "8a28f3be",
      "metadata": {
        "id": "8a28f3be"
      },
      "source": [
        "### Step 3: Top 10 Movies with the Most Ratings"
      ]
    },
    {
      "cell_type": "code",
      "execution_count": null,
      "id": "d5aa1621",
      "metadata": {
        "id": "d5aa1621"
      },
      "outputs": [],
      "source": [
        "# Merge movies and ratings datasets\n",
        "movie_ratings = ratings.merge(movies, on='movieId')\n",
        "\n",
        "# Group by movie title and count the number of ratings\n",
        "top_10_movies = movie_ratings.groupby('title').size().sort_values(ascending=False).head(10)\n",
        "\n",
        "plt.figure(figsize=(10, 6))\n",
        "sns.barplot(x=top_10_movies.values, y=top_10_movies.index, palette='viridis')\n",
        "plt.title('Top 10 Movies with Most Ratings')\n",
        "plt.xlabel('Number of Ratings')\n",
        "plt.ylabel('Movie Title')\n",
        "plt.show()\n"
      ]
    },
    {
      "cell_type": "markdown",
      "id": "397ac236",
      "metadata": {
        "id": "397ac236"
      },
      "source": [
        "### Step 4: Average Ratings per Movie"
      ]
    },
    {
      "cell_type": "code",
      "execution_count": null,
      "id": "98d2ade2",
      "metadata": {
        "id": "98d2ade2"
      },
      "outputs": [],
      "source": [
        "# Calculate the average rating per movie\n",
        "average_ratings = movie_ratings.groupby('title')['rating'].mean().sort_values(ascending=False)\n",
        "\n",
        "# Filter out movies with less than 100 ratings\n",
        "popular_movies = movie_ratings.groupby('title').filter(lambda x: x['rating'].count() >= 100)\n",
        "average_ratings_filtered = popular_movies.groupby('title')['rating'].mean().sort_values(ascending=False).head(10)\n",
        "\n",
        "plt.figure(figsize=(10, 6))\n",
        "sns.barplot(x=average_ratings_filtered.values, y=average_ratings_filtered.index, palette='magma')\n",
        "plt.title('Top 10 Movies with Highest Average Ratings (with at least 100 ratings)')\n",
        "plt.xlabel('Average Rating')\n",
        "plt.ylabel('Movie Title')\n",
        "plt.show()\n"
      ]
    },
    {
      "cell_type": "markdown",
      "id": "2ba59b4d",
      "metadata": {
        "id": "2ba59b4d"
      },
      "source": [
        "## 5. Content-Based Filtering\n",
        "\n",
        "Like the name suggests, the Content-based Filtering approach involves analyzing an item a user interacted with and giving recommendations that are similar in content to that item. Content, in this case, refers to a set of attributes/features that describes your item. For a movie recommendation engine, a content-based approach would be to recommend movies that are of highest similarity based on its **features**, such as genres, actors, directors, year of production, etc. The assumption here is that users have preferences for a certain type of product, so we try to recommend a similar product to what the user has expressed liking for. Also, the goal here is to provide alternatives or substitutes to the item that was viewed.\n",
        "\n",
        "We will be building a basic content-based recommender engine based on **movie genres** only."
      ]
    },
    {
      "cell_type": "markdown",
      "id": "742c07b5",
      "metadata": {
        "id": "742c07b5"
      },
      "source": [
        "## Exercise #3:\n",
        "\n",
        " 1. Combine the movie titles with genres\n",
        " 2. Create a vector representation\n",
        " 3. Compute the similarity matrix\n",
        " 4. Show the similarity matrix for the first 5 movies\n",
        " 5. Build the recommendation function\n",
        " 6. Change the movie and get the recommended movies\n"
      ]
    },
    {
      "cell_type": "markdown",
      "id": "f4ac10a4",
      "metadata": {
        "id": "f4ac10a4"
      },
      "source": [
        "### Step 1: Preprocess the Data"
      ]
    },
    {
      "cell_type": "code",
      "execution_count": null,
      "id": "318f003b",
      "metadata": {
        "id": "318f003b"
      },
      "outputs": [],
      "source": [
        "# Combine movie titles with genres for the content-based filtering\n",
        "movies['title_genres'] = movies['title'] + ' ' + movies['genres']\n",
        "\n",
        "# Initialize the TF-IDF Vectorizer\n",
        "tfidf_vectorizer = TfidfVectorizer(stop_words='english')\n",
        "\n",
        "# Fit and transform the movies' genres and titles\n",
        "tfidf_matrix = tfidf_vectorizer.fit_transform(movies['title_genres'])\n",
        "\n",
        "# Compute the cosine similarity matrix\n",
        "cosine_sim = cosine_similarity(tfidf_matrix, tfidf_matrix)\n",
        "\n",
        "# Show the similarity matrix for the first 5 movies\n",
        "print(cosine_sim[:5, :5])\n"
      ]
    },
    {
      "cell_type": "markdown",
      "id": "45705ada",
      "metadata": {
        "id": "45705ada"
      },
      "source": [
        "### Step 2: Build a Recommendation Function"
      ]
    },
    {
      "cell_type": "code",
      "execution_count": null,
      "id": "975e0d2e",
      "metadata": {
        "id": "975e0d2e"
      },
      "outputs": [],
      "source": [
        "# Function to get movie recommendations based on content\n",
        "def get_content_based_recommendations(title, cosine_sim=cosine_sim):\n",
        "    idx = movies[movies['title'] == title].index[0]\n",
        "    sim_scores = list(enumerate(cosine_sim[idx]))\n",
        "    sim_scores = sorted(sim_scores, key=lambda x: x[1], reverse=True)\n",
        "    sim_scores = sim_scores[1:11]  # Get top 10 movies\n",
        "    movie_indices = [i[0] for i in sim_scores]\n",
        "    return movies['title'].iloc[movie_indices]\n",
        "\n",
        "# Example: Get recommendations for a movie\n",
        "recommended_movies = get_content_based_recommendations('Toy Story (1995)')\n",
        "#recommended_movies = get_content_based_recommendations('Star Wars: Episode IV - A New Hope (1977)')\n",
        "\n",
        "print(recommended_movies)\n"
      ]
    },
    {
      "cell_type": "markdown",
      "id": "c8bbb594",
      "metadata": {
        "id": "c8bbb594"
      },
      "source": [
        "## 6. User-Based Collaborative Filtering Approach\n",
        "\n",
        "The User-Based Collaborative Filtering approach groups users according to prior usage behavior or according to their preferences, and then recommends an item that a similar user in the same group viewed or liked. To put this in layman terms, if user 1 liked movie A, B and C, and if user 2 liked movie A and B, then movie C might make a good recommendation to user 2. The User-Based Collaborative Filtering approach mimics how word-of-mouth recommendations work in real life.\n",
        "\n",
        "## Exercise #4:\n",
        "\n",
        " 1. Create the User-Item Matrix\n",
        " 2. Build the recommendation function\n",
        " 3. Change the user and get the recommended movies\n"
      ]
    },
    {
      "cell_type": "markdown",
      "id": "73dd0a8f",
      "metadata": {
        "id": "73dd0a8f"
      },
      "source": [
        "### Step 1: Create the User-Item Matrix"
      ]
    },
    {
      "cell_type": "code",
      "execution_count": 15,
      "id": "715b41f6",
      "metadata": {
        "id": "715b41f6"
      },
      "outputs": [],
      "source": [
        "# Create the user-item matrix\n",
        "user_item_matrix = ratings.pivot(index='userId', columns='movieId', values='rating').fillna(0)\n",
        "\n",
        "# Convert the user-item matrix into a sparse matrix\n",
        "user_item_matrix_sparse = csr_matrix(user_item_matrix.values)\n",
        "\n",
        "# Perform Singular Value Decomposition\n",
        "U, sigma, Vt = svds(user_item_matrix_sparse, k=50)\n",
        "\n",
        "# Convert sigma to a diagonal matrix\n",
        "sigma = np.diag(sigma)\n",
        "\n",
        "# Compute the predicted ratings\n",
        "predicted_ratings = np.dot(np.dot(U, sigma), Vt)\n",
        "\n",
        "# Create a DataFrame for the predicted ratings\n",
        "predicted_ratings_df = pd.DataFrame(predicted_ratings, columns=user_item_matrix.columns)\n"
      ]
    },
    {
      "cell_type": "markdown",
      "id": "cbcae63d",
      "metadata": {
        "id": "cbcae63d"
      },
      "source": [
        "### Step 2: Build a Recommendation Function"
      ]
    },
    {
      "cell_type": "code",
      "execution_count": null,
      "id": "2d6b1592",
      "metadata": {
        "id": "2d6b1592"
      },
      "outputs": [],
      "source": [
        "# Function to recommend movies to a user based on collaborative filtering\n",
        "def get_collaborative_recommendations(user_id, num_recommendations=10):\n",
        "    user_idx = user_id - 1\n",
        "    user_ratings = predicted_ratings_df.iloc[user_idx].sort_values(ascending=False)\n",
        "    recommended_movie_ids = user_ratings.index[:num_recommendations]\n",
        "    return movies[movies['movieId'].isin(recommended_movie_ids)]['title']\n",
        "\n",
        "# Example: Get recommendations for a user\n",
        "collaborative_recommendations = get_collaborative_recommendations(user_id=88)\n",
        "print(collaborative_recommendations)\n"
      ]
    },
    {
      "cell_type": "markdown",
      "id": "fdcd5d02",
      "metadata": {
        "id": "fdcd5d02"
      },
      "source": [
        "## 7. Evaluation\n",
        "\n",
        "Evaluate Collaborative Filtering Model\n"
      ]
    },
    {
      "cell_type": "code",
      "execution_count": 18,
      "id": "70221eed",
      "metadata": {
        "id": "70221eed",
        "colab": {
          "base_uri": "https://localhost:8080/"
        },
        "outputId": "a411d487-e5ea-4514-f7bb-ccbc7d269e7c"
      },
      "outputs": [
        {
          "output_type": "stream",
          "name": "stdout",
          "text": [
            "Collaborative Filtering RMSE: 0.37420556921016007\n"
          ]
        }
      ],
      "source": [
        "from sklearn.metrics import mean_squared_error\n",
        "\n",
        "# Split data into training and test sets\n",
        "train_data, test_data = train_test_split(ratings, test_size=0.2, random_state=42)\n",
        "\n",
        "# Create training user-item matrix\n",
        "train_user_item_matrix = train_data.pivot(index='userId', columns='movieId', values='rating').fillna(0)\n",
        "train_user_item_matrix_sparse = csr_matrix(train_user_item_matrix.values)\n",
        "\n",
        "# Perform SVD on training data\n",
        "U_train, sigma_train, Vt_train = svds(train_user_item_matrix_sparse, k=50)\n",
        "sigma_train = np.diag(sigma_train)\n",
        "\n",
        "# Compute predicted ratings for the training set\n",
        "predicted_ratings_train = np.dot(np.dot(U_train, sigma_train), Vt_train)\n",
        "predicted_ratings_train_df = pd.DataFrame(predicted_ratings_train, columns=train_user_item_matrix.columns, index=train_user_item_matrix.index)\n",
        "\n",
        "# Create a user-item matrix for the test data\n",
        "test_user_item_matrix = test_data.pivot(index='userId', columns='movieId', values='rating')\n",
        "\n",
        "# Align the test set with the predicted ratings\n",
        "aligned_test_user_item_matrix = test_user_item_matrix.reindex_like(predicted_ratings_train_df).fillna(0)\n",
        "\n",
        "# Calculate the aligned predictions\n",
        "aligned_predicted_ratings_test = predicted_ratings_train_df.loc[aligned_test_user_item_matrix.index, aligned_test_user_item_matrix.columns].fillna(0)\n",
        "\n",
        "# Calculate RMSE for the test set\n",
        "rmse = np.sqrt(mean_squared_error(aligned_test_user_item_matrix.values, aligned_predicted_ratings_test.values))\n",
        "print(f'Collaborative Filtering RMSE: {rmse}')\n",
        "\n",
        "\n"
      ]
    },
    {
      "cell_type": "markdown",
      "id": "d53f7ef7",
      "metadata": {
        "id": "d53f7ef7"
      },
      "source": [
        "## Bonus Exercise\n",
        "\n",
        " ### Task 1: Content-Based Filtering Enhancement\n",
        " 1. Incorporate Additional Features:\n",
        "    - The current content-based filtering uses only movie titles and genres. Try incorporating tags (if available) or keywords associated with movies to improve the recommendations.\n",
        "    - You can simulate this by creating a new column that combines the title, genres, and some synthetic tags you create (e.g., \"action-packed,\" \"romantic,\" \"classic\").\n",
        "    \n",
        "\n",
        " 2. Adjust the TF-IDF Vectorizer:\n",
        "    - Experiment with different parameters of the TfidfVectorizer, such as max_features, ngram_range, or max_df/min_df, to see how they affect the quality of recommendations.\n",
        "    - Compare the results before and after these changes by getting recommendations for the same movie.\n",
        "\n",
        "\n",
        "### Hint\n",
        "\n",
        " 1. Create a synthetic 'tags' column (this can be adjusted as needed)\n",
        " 2. Combine title, genres, and tags for a richer content description\n",
        " 3. Re-run the TF-IDF Vectorizer with the new combined column\n",
        " 4. Compute the cosine similarity matrix\n",
        " 5. Get recommendations for a movie with the enhanced content-based filtering\n"
      ]
    },
    {
      "cell_type": "markdown",
      "id": "4d22e07a",
      "metadata": {
        "id": "4d22e07a"
      },
      "source": [
        "## Task 2: Visualization\n",
        "\n",
        " 3. Visualize Similarity:\n",
        " - Create a heatmap of the cosine similarity matrix for a small subset of movies (e.g., the top 20 most-rated movies). This visualization will help you understand which movies are considered similar.\n"
      ]
    }
  ],
  "metadata": {
    "kernelspec": {
      "display_name": "Python 3 (ipykernel)",
      "language": "python",
      "name": "python3"
    },
    "language_info": {
      "codemirror_mode": {
        "name": "ipython",
        "version": 3
      },
      "file_extension": ".py",
      "mimetype": "text/x-python",
      "name": "python",
      "nbconvert_exporter": "python",
      "pygments_lexer": "ipython3",
      "version": "3.9.13"
    },
    "colab": {
      "provenance": []
    }
  },
  "nbformat": 4,
  "nbformat_minor": 5
}