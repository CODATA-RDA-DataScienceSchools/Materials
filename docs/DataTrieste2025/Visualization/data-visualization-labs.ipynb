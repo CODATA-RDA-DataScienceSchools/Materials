{
 "cells": [
  {
   "cell_type": "markdown",
   "id": "822de399-2d05-4926-a734-959cc3cfa1cc",
   "metadata": {},
   "source": [
    "# **Data Visualization with Python using Plotnine**\n",
    "**Instructor:** *Bianca Peterson*\n",
    "\n",
    "## **Introduction**\n",
    "Data visualization is a powerful tool for understanding data and communicating insights. In this tutorial, we will use Plotnine, a Python library based on the grammar of graphics, to create various types of plots.\n",
    "Python offers robust built-in plotting tools like matplotlib. However, in this tutorial, we'll focus on using the plotnine package. Plotnine enables the creation of insightful plots from structured data, drawing inspiration from ggplot2 in R and Leland Wilkinson's Grammar of Graphics. Built on Matplotlib, plotnine seamlessly integrates with Pandas, making it ideal for visual data exploration and analysis.\n",
    "\n",
    "## **Overview**\n",
    "In this tutorial we look at some of the data on wealth and life expectancy of countries over time used by Hans Rosling, known as gapminder.\n",
    "The goal is to provide an overview of how to graph a variable (data) depending on its type, introduce some simple 1D and 2D plots constructed using plotnine and provide an outline of the layered grammar of graphics.\n",
    "\n",
    "## **Learning objectives**\n",
    " - Generate plots from data according to their type (discrete, continuous …)\n",
    " - Manage plot settings\n",
    " - Produce plots from data in a data frame\n",
    " - Modify and customize a plot\n",
    " - Create complex and fancy plots\n",
    "\n",
    "\n",
    "### Installing and loading packages"
   ]
  },
  {
   "cell_type": "code",
   "execution_count": null,
   "id": "92673570-4dc7-41c5-98c1-1e9b3962484d",
   "metadata": {},
   "outputs": [],
   "source": [
    "# Loading/installing packages\n",
    "# !pip install gapminder\n",
    "import pandas as pd\n",
    "import numpy as np\n",
    "from plotnine import *\n",
    "import plotly.express as px\n",
    "import plotly.graph_objects as go\n",
    "from plotly.subplots import make_subplots\n",
    "\n",
    "# Loading the dataset\n",
    "from gapminder import gapminder"
   ]
  },
  {
   "cell_type": "markdown",
   "id": "a2561da8-f4ae-4024-b2c0-04b87fed23d5",
   "metadata": {},
   "source": [
    "### Data Structure and Overview\n",
    "Let's have a look at our data structure.\n"
   ]
  },
  {
   "cell_type": "code",
   "execution_count": null,
   "id": "2ea3a1d7-dd08-4bfc-9961-8f57642a9fe5",
   "metadata": {},
   "outputs": [],
   "source": [
    "# Inspecting the data structure\n",
    "print(gapminder.info())\n",
    "print(gapminder.head())"
   ]
  },
  {
   "cell_type": "markdown",
   "id": "879f7cae-ed32-4098-8c9e-bcc4dd4a4484",
   "metadata": {},
   "source": [
    "It is useful to get some overview of the variables before getting started"
   ]
  },
  {
   "cell_type": "code",
   "execution_count": null,
   "id": "974e30ac-681a-4ab0-b38b-99076bb8e708",
   "metadata": {},
   "outputs": [],
   "source": [
    "print(gapminder.describe(include='all'))"
   ]
  },
  {
   "cell_type": "markdown",
   "id": "f8cfa5ba-1840-4043-ab04-a63eb382899c",
   "metadata": {},
   "source": [
    "### Trends Over Time by Continent\n",
    "We will want to look at trends over time by continent. How many countries are in this data set in each continent? There are 12 years for each country. Are the data complete?\n"
   ]
  },
  {
   "cell_type": "code",
   "execution_count": null,
   "id": "f205ce68-b924-45d8-84e7-cb37b567609a",
   "metadata": {},
   "outputs": [],
   "source": [
    "# Checking the completeness of data - create a frequency table\n"
   ]
  },
  {
   "cell_type": "markdown",
   "id": "5b64782d-fa93-4b48-90a1-e1cec3f991b9",
   "metadata": {},
   "source": [
    "## 1D Plots: Bar Plots for Discrete Variables\n",
    "As we have seen previously during the lecture, the distribution of a categorical variable is better visualized using a bar plot. For example, continent.\n",
    "With `plotnine`, this is relatively easy.\n",
    "- we start by mapping the `x` variable to `continent`\n",
    "- then, we add a `geom_bar()` layer, that counts the observations in each category and plots them as bar lengths.\n",
    "\n",
    "The `aes()` function maps columns of data onto graphical attributes–such as colors, shapes, or x and y coordinates. (The name `aes()` is short for aesthetic.)\n"
   ]
  },
  {
   "cell_type": "code",
   "execution_count": null,
   "id": "77730feb-9c18-472e-a854-9ffaa1ea1be0",
   "metadata": {},
   "outputs": [],
   "source": [
    "# Bar plot for continents\n"
   ]
  },
  {
   "cell_type": "markdown",
   "id": "ec1bab63-5ea4-437d-b4a7-090e14141eee",
   "metadata": {},
   "source": [
    "To make this more colorful, you can also map the `fill` attribute to `continent`."
   ]
  },
  {
   "cell_type": "code",
   "execution_count": null,
   "id": "8f0d5df0-901b-43a6-b2fb-3e394d3f5920",
   "metadata": {},
   "outputs": [],
   "source": [
    "# Bar plot for continent with fill color\n"
   ]
  },
  {
   "cell_type": "markdown",
   "id": "11e749bc-ab9a-4f14-90b2-6316c4277b4c",
   "metadata": {},
   "source": [
    "With `plotnine` features, we are also able to:\n",
    "- change the default color schemes\n",
    "- modify labels\n",
    "- change the legend position, or eliminate it in some cases\n",
    "- flip axis …\n",
    "\n",
    "Let's try some!\n",
    "\n",
    "- We will change the y axis, `count`, in `geom_bar()` to `..count../12` in order to represent the number of countries.\n",
    "- Change the label of the y axis by a more meaningful one: `Number of countries`\n",
    "- Suppress the default legend for continent, which is redundant in this case\n"
   ]
  },
  {
   "cell_type": "code",
   "execution_count": null,
   "id": "2bfdb6c9-be00-4b71-aa82-568dafbb59ef",
   "metadata": {},
   "outputs": [],
   "source": [
    "# Customizing the bar plot\n"
   ]
  },
  {
   "cell_type": "markdown",
   "id": "13528b22-881f-4945-8ddf-a7b9a4c5f3dc",
   "metadata": {},
   "source": [
    "### Transforming Coordinates and Flipping Axes\n"
   ]
  },
  {
   "cell_type": "markdown",
   "id": "ca927282-150f-4bd6-bac6-323626d85573",
   "metadata": {},
   "source": [
    "Transforming coordinates using `coord_trans` function"
   ]
  },
  {
   "cell_type": "code",
   "execution_count": null,
   "id": "b9b7556b-2169-4dad-8a0c-ae0a2ba5321b",
   "metadata": {},
   "outputs": [],
   "source": [
    "# Transforming coordinates using coord_trans function\n"
   ]
  },
  {
   "cell_type": "markdown",
   "id": "48ba99cb-3c15-4a7e-b044-98ae463aaa69",
   "metadata": {},
   "source": [
    "Flipping axes using  `coord_flip ` function"
   ]
  },
  {
   "cell_type": "code",
   "execution_count": null,
   "id": "8332329e-de29-4f50-b1aa-f8f831b645e6",
   "metadata": {},
   "outputs": [],
   "source": [
    "# Flipping axes using coord_flip function\n"
   ]
  },
  {
   "cell_type": "markdown",
   "id": "0f8e2b9f",
   "metadata": {},
   "source": [
    "## Saving plots"
   ]
  },
  {
   "cell_type": "code",
   "execution_count": null,
   "id": "b9a61130",
   "metadata": {},
   "outputs": [],
   "source": []
  },
  {
   "cell_type": "markdown",
   "id": "91234bff-4bea-4fd5-9156-b687acd66c01",
   "metadata": {},
   "source": [
    "## 1D Plots: Density Plots for Continuous Variables\n",
    "The `gapminder` data set contains several continuous variables: life expectancy (`lifeExp`), population (`pop`) and gross domestic product per capita (`gdpPercap`) for each year and country.\n",
    "For such variables, density plots provide a useful graphical summary.\n",
    "Let’s start by exploring life expectancy. The simplest plot uses this as the horizontal axis, `aes(x=lifeExp)` and then adds `geom_density()` to calculate and plot the smoothed frequency distribution."
   ]
  },
  {
   "cell_type": "code",
   "execution_count": null,
   "id": "2982191d-d1f6-4a13-a9aa-2f047a020146",
   "metadata": {},
   "outputs": [],
   "source": [
    "# Density plot for life expectancy\n"
   ]
  },
  {
   "cell_type": "markdown",
   "id": "df2182d3-054f-4cda-9b14-17a26c2a7c8f",
   "metadata": {},
   "source": [
    "We have several features to make this plot prettier. Changing the line thickness (`size`), add a fill color (`fill`), and make the fill color partially transparent (`alpha`)."
   ]
  },
  {
   "cell_type": "code",
   "execution_count": null,
   "id": "68f1ef2b-cdff-46e1-a895-96bd0d0da7fe",
   "metadata": {},
   "outputs": [],
   "source": [
    "# Prettifying the density plot\n"
   ]
  },
  {
   "cell_type": "markdown",
   "id": "803f4c61-d6dc-4b10-ac3a-99051a68d744",
   "metadata": {},
   "source": [
    "### Differences by Continent\n",
    "The plot of life expectancy is bimodal (two peaks) and shows the difference in life expectancy in developing countries (left peak) and developed countries (right peak). We need to add another aesthetic attribute, `fill=continent`, which is inherited in `geom_density()` to see more details about countries among continents."
   ]
  },
  {
   "cell_type": "code",
   "execution_count": null,
   "id": "8bfa7062-1108-4156-811f-14b01d5442a5",
   "metadata": {},
   "outputs": [],
   "source": [
    "# Density plot for life expectancy by continent\n"
   ]
  },
  {
   "cell_type": "markdown",
   "id": "2d2db68f-4544-4fbe-9622-6c3e6369c6e1",
   "metadata": {},
   "source": [
    "**Note 1:** We used transparent colors ( `alpha`) to see the different distributions across each continent more clearly.\n",
    "\n",
    "**Note 2:** It is easy now to see that African countries differ markedly from the rest."
   ]
  },
  {
   "cell_type": "markdown",
   "id": "3b1c5d55-ce39-4eb6-95d2-551d01fbdf5f",
   "metadata": {},
   "source": [
    "## Boxplots and Other Visual Summaries\n",
    "You might want to visualize the distributions of life expectancy by another visual summary, grouped by `continent`. All you need to do is change the aesthetic to show `continent` on one axis, and life expectancy (`lifeExp`) on the other.\n"
   ]
  },
  {
   "cell_type": "code",
   "execution_count": null,
   "id": "be29e2d4-cb09-46ca-9a19-49d2781fa6de",
   "metadata": {},
   "outputs": [],
   "source": [
    "# Boxplot for life expectancy by continent\n"
   ]
  },
  {
   "cell_type": "markdown",
   "id": "69cb3814-bfc2-45b7-bc19-ee2ed88b77b8",
   "metadata": {},
   "source": [
    " ### <span style=\"color:red\">**CHALLENGE 1**</span>\n",
    "1. Remove the legend from this plot\n",
    "2. Make the plot horizontal\n",
    "3. Instead of a boxplot, try `geom_violin()`\n"
   ]
  },
  {
   "cell_type": "code",
   "execution_count": null,
   "id": "efc4a85c",
   "metadata": {},
   "outputs": [],
   "source": []
  },
  {
   "cell_type": "code",
   "execution_count": null,
   "id": "e663f0f9",
   "metadata": {},
   "outputs": [],
   "source": []
  },
  {
   "cell_type": "code",
   "execution_count": null,
   "id": "c519a417",
   "metadata": {},
   "outputs": [],
   "source": []
  },
  {
   "cell_type": "markdown",
   "id": "f8ed028b-f408-46cf-b049-9bacb899d8cc",
   "metadata": {},
   "source": [
    "## Effect Ordering\n",
    "The continents are a factor and are ordered alphabetically by default. It might be more useful to order them by the mean or median life expectancy.\n"
   ]
  },
  {
   "cell_type": "code",
   "execution_count": null,
   "id": "91b4f9a8-6633-43fa-8ca9-7813c1c982a0",
   "metadata": {},
   "outputs": [],
   "source": [
    "# Reordering continents by median life expectancy\n",
    "\n",
    "# Convert 'continent' to a categorical type and reorder by median life expectancy\n",
    "median_life_exp = gapminder.groupby('continent', observed=False)['lifeExp'].median()\n",
    "\n",
    "gapminder['continent'] = pd.Categorical(gapminder['continent'], categories=median_life_exp.sort_values().index, ordered=True)\n",
    "# .index extracts the continent names in the correct sorted order\n",
    "\n",
    "# Create a boxplot with reordered continents\n",
    "\n",
    "\n",
    "# Show the plot\n"
   ]
  },
  {
   "cell_type": "markdown",
   "id": "4ed814e5-5858-4cfb-84dc-6d09ba42365e",
   "metadata": {},
   "source": [
    "### Exploring GDP per Capita\n",
    "Let’s look at the distribution of `gdpPercap ` in a similar way, starting with the unconditional distribution."
   ]
  },
  {
   "cell_type": "code",
   "execution_count": null,
   "id": "da1a6763-0093-47bd-baf3-903871a11347",
   "metadata": {},
   "outputs": [],
   "source": [
    "# Plotting the distribution of GDP per capita\n"
   ]
  },
  {
   "cell_type": "markdown",
   "id": "a87e1bb5-9d94-483f-af21-5ff0efa57e88",
   "metadata": {},
   "source": [
    "### <span style=\"color:red\">**CHALLENGE 2**</span>\n",
    "\n",
    "1. Plot the distributions of GDP per capita separately for each continent.\n",
    "2. Transform the x-axis to a log scale and add another layer for the log transformation.\n",
    "3. Create boxplots of GDP per capita by continent, with and without a log scale.\n"
   ]
  },
  {
   "cell_type": "code",
   "execution_count": null,
   "id": "7eb31919",
   "metadata": {},
   "outputs": [],
   "source": []
  },
  {
   "cell_type": "code",
   "execution_count": null,
   "id": "3ec6097a",
   "metadata": {},
   "outputs": [],
   "source": []
  },
  {
   "cell_type": "code",
   "execution_count": null,
   "id": "f6b3d7d3",
   "metadata": {},
   "outputs": [],
   "source": []
  },
  {
   "cell_type": "markdown",
   "id": "540ebe40",
   "metadata": {},
   "source": [
    "## Faceting\n",
    "\n",
    "Sometimes it might make sense to split a single plot into several smaller plots. We can do that by faceting the plot.\n",
    "\n",
    "### Facet by 1 variable"
   ]
  },
  {
   "cell_type": "code",
   "execution_count": null,
   "id": "bd95c162",
   "metadata": {},
   "outputs": [],
   "source": [
    "# Plotting the distribution of GDP per capita for each continent\n"
   ]
  },
  {
   "cell_type": "markdown",
   "id": "4858550b",
   "metadata": {},
   "source": [
    "### Facet by 2 variables"
   ]
  },
  {
   "cell_type": "code",
   "execution_count": null,
   "id": "ad468340",
   "metadata": {},
   "outputs": [],
   "source": [
    "# Plotting the distribution of GDP per capita for each continent per year\n"
   ]
  },
  {
   "cell_type": "markdown",
   "id": "2a842369-ec96-4dde-a125-fc4f72a6edb7",
   "metadata": {},
   "source": [
    "## Layers & Time series plots\n",
    "### Layers\n",
    "Exploring how life expectancy change with GDP per country, for example China. We can use `geom_line` to make a line plot."
   ]
  },
  {
   "cell_type": "code",
   "execution_count": null,
   "id": "9cb45f78-2e07-45ba-b372-f9ef5dcccd23",
   "metadata": {},
   "outputs": [],
   "source": [
    "# Line plot for China showing life expectancy versus GDP\n",
    "# Filter data for China\n"
   ]
  },
  {
   "cell_type": "markdown",
   "id": "4ad46173-3967-4945-b48a-3f7bbacf96e9",
   "metadata": {},
   "source": [
    "#### Adding Points\n",
    "\n",
    "We can use both `geom_line` and `geom_point` to make a line plot with points at the data values.\n"
   ]
  },
  {
   "cell_type": "code",
   "execution_count": null,
   "id": "4df955ec-9921-4901-912b-b45ca0466440",
   "metadata": {},
   "outputs": [],
   "source": [
    "\n"
   ]
  },
  {
   "cell_type": "markdown",
   "id": "4411724d-70ee-41cc-96a7-86f35fb9eb79",
   "metadata": {},
   "source": [
    "**Note:** This brings up another important concept with ggplot: layers. A given plot can have multiple layers of geometric objects, plotted one on top of the other.\n",
    "\n",
    "#### Adding Colors\n",
    "\n",
    "Adding colors to the lines and points to enhance visibility.\n"
   ]
  },
  {
   "cell_type": "code",
   "execution_count": null,
   "id": "4ea69ddc-ee17-4373-8982-c61133279e98",
   "metadata": {},
   "outputs": [],
   "source": [
    "\n"
   ]
  },
  {
   "cell_type": "markdown",
   "id": "fecc166d-8be8-4044-9f6e-ab2d6e88759a",
   "metadata": {},
   "source": [
    "If we switch the order of `geom_point()` and `geom_line()`, we’ll reverse the layers."
   ]
  },
  {
   "cell_type": "code",
   "execution_count": null,
   "id": "bf7c61fb-b24a-4f0d-adfa-5038db52c09f",
   "metadata": {},
   "outputs": [],
   "source": []
  },
  {
   "cell_type": "markdown",
   "id": "116b615b-3dde-4aed-bb87-903398a522cc",
   "metadata": {},
   "source": [
    "**Note:** aesthetics that are included in the call to `ggplot()` (or completely separately) are made to be the defaults for all layers, but we can separately control the aesthetics for each layer. For example, we could color the points by year:\n",
    "\n",
    "#### Color Points by Year\n",
    "\n",
    "Coloring the points by year to show additional information.\n"
   ]
  },
  {
   "cell_type": "code",
   "execution_count": null,
   "id": "cb191aa0-b5e6-4ce7-b567-5cfac4611e60",
   "metadata": {},
   "outputs": [],
   "source": []
  },
  {
   "cell_type": "markdown",
   "id": "43aaeee5-a9b5-497d-9fe4-fd2035b3836f",
   "metadata": {},
   "source": [
    "With a rainbow:"
   ]
  },
  {
   "cell_type": "code",
   "execution_count": null,
   "id": "6e41607c-0ba1-4398-ab09-e3f37c967efb",
   "metadata": {},
   "outputs": [],
   "source": [
    "# With a rainbow color scale\n",
    "import matplotlib.pyplot as plt\n",
    "china_plot_colored_by_year_rainbow = (ggplot(china, aes(x='gdpPercap', y='lifeExp'))\n",
    "                                      + geom_line()\n",
    "                                      + geom_point(aes(color='year'))\n",
    "                                      + scale_color_gradientn(colors=plt.cm.rainbow(np.linspace(0, 1, 5))))\n",
    "# np.linspace creates 5 evenly spaced numbers between 0 and 1, which represents the positions along the color map\n",
    "# plt.cm.rainbow samples 5 colors evenly distributed across the rainbow spectrum\n",
    "# scale_color_gradientn creates a continuous color scale\n",
    "\n",
    "china_plot_colored_by_year_rainbow.show()"
   ]
  },
  {
   "cell_type": "markdown",
   "id": "ae67b796-f3cd-4105-a42b-c6b78e98e456",
   "metadata": {},
   "source": [
    "Coloring both points and lines:"
   ]
  },
  {
   "cell_type": "code",
   "execution_count": null,
   "id": "3d8a86c6-4f88-4b70-8181-cec24a90d6bd",
   "metadata": {},
   "outputs": [],
   "source": [
    "# With a rainbow color scale\n",
    "import matplotlib.pyplot as plt\n",
    "\n",
    "china_plot_colored_by_year_rainbow = (ggplot(china, aes(x='gdpPercap', y='lifeExp'))\n",
    "                                      + geom_line()\n",
    "                                      + geom_point()\n",
    "                                      + scale_color_gradientn(colors=plt.cm.rainbow(np.linspace(0, 1, 5)))\n",
    "                                      + aes(color='year'))\n",
    "\n",
    "china_plot_colored_by_year_rainbow.show()"
   ]
  },
  {
   "cell_type": "markdown",
   "id": "230225e4-6011-4919-86bc-8ff82bfab4f4",
   "metadata": {},
   "source": [
    "### <span style=\"color:red\">**CHALLENGE 3**</span>\n",
    "\n",
    "Make a plot of life expectancy vs. GDP per capita for China and India, with both lines and points. Make a separate line for each country."
   ]
  },
  {
   "cell_type": "code",
   "execution_count": null,
   "id": "2e9a2b9d",
   "metadata": {},
   "outputs": [],
   "source": [
    "# Filter data for China and India\n"
   ]
  },
  {
   "cell_type": "code",
   "execution_count": null,
   "id": "e40d7f09",
   "metadata": {},
   "outputs": [],
   "source": []
  },
  {
   "cell_type": "markdown",
   "id": "4c6a9652-79e0-4c4e-9898-25e0866fc412",
   "metadata": {},
   "source": [
    "## Time Series Plot\n",
    "\n",
    "Exploring how life expectancy has changed over time. We use the `group` aesthetic to create a line for each country.\n"
   ]
  },
  {
   "cell_type": "code",
   "execution_count": null,
   "id": "40bfd1c6-05ec-426c-93a1-89bacaec33f7",
   "metadata": {},
   "outputs": [],
   "source": []
  },
  {
   "cell_type": "markdown",
   "id": "08a05aaf-1935-4b8a-a38d-25fa7a1d4cae",
   "metadata": {},
   "source": [
    "#### Adding Colors\n",
    "\n",
    "Adding color to the lines based on continent.\n"
   ]
  },
  {
   "cell_type": "code",
   "execution_count": null,
   "id": "d947fd21-d22f-4cf2-8a3d-431b8fa1f369",
   "metadata": {},
   "outputs": [],
   "source": []
  },
  {
   "cell_type": "markdown",
   "id": "18998c73-4e91-4e7e-a23a-cfc2493262ac",
   "metadata": {},
   "source": [
    "#### Changing Color Shade\n",
    "\n",
    "Changing the color shade (make it more transparent) to make the plot more readable.\n"
   ]
  },
  {
   "cell_type": "code",
   "execution_count": null,
   "id": "29251561-eab2-48e9-9763-a918c8c41224",
   "metadata": {},
   "outputs": [],
   "source": []
  },
  {
   "cell_type": "markdown",
   "id": "d151c06f-bb36-4ba0-8596-ef1794b1afc6",
   "metadata": {},
   "source": [
    "### Plotting a Summary\n",
    "\n",
    "A better way to look at trends over time is to find the mean or median for each `year` and `continent` and plot those.\n"
   ]
  },
  {
   "cell_type": "code",
   "execution_count": null,
   "id": "4fbf1d0c-831e-4077-9718-0a889dc42c36",
   "metadata": {},
   "outputs": [],
   "source": [
    "summary = (gapminder.groupby(['continent', 'year'],observed=False)\n",
    "           .agg({'lifeExp': 'median'})\n",
    "           .reset_index())\n",
    "\n"
   ]
  },
  {
   "cell_type": "markdown",
   "id": "af81a3c4-fc21-423a-af80-8fc4c735deae",
   "metadata": {},
   "source": [
    "Let’s play with our plot and make it more fancy! \n",
    "\n",
    "We can fit linear regression lines for each `continent` instead of joining all the points:"
   ]
  },
  {
   "cell_type": "code",
   "execution_count": null,
   "id": "e40ac022-96a8-4b0b-97a5-5aa6e59da5ec",
   "metadata": {},
   "outputs": [],
   "source": [
    "# Linear regression\n"
   ]
  },
  {
   "cell_type": "markdown",
   "id": "7f45cfd7-fa5d-4785-ae09-7f8f9f72e04f",
   "metadata": {},
   "source": [
    "We can also use a `loess` smooth rather than a linear regression:"
   ]
  },
  {
   "cell_type": "code",
   "execution_count": null,
   "id": "96eea8a4-045d-4f33-b80a-6d1769ce1dae",
   "metadata": {},
   "outputs": [],
   "source": [
    "# Loess smooth\n",
    "# !pip install scikit-misc\n"
   ]
  },
  {
   "cell_type": "markdown",
   "id": "1ed71412-0d18-48ff-84f0-7f98a6e9ea12",
   "metadata": {},
   "source": [
    "We can change the default use of legends by placing it inside the plot:"
   ]
  },
  {
   "cell_type": "code",
   "execution_count": null,
   "id": "3d3eda27-8078-474d-96f0-fb72f4fe623a",
   "metadata": {},
   "outputs": [],
   "source": [
    "# Changing legend position\n"
   ]
  },
  {
   "cell_type": "markdown",
   "id": "7aeab52f-270b-40b8-aaff-267fcb3c3aa9",
   "metadata": {},
   "source": [
    "## Scatterplots\n",
    "\n",
    "Let’s explore the relationship between life expectancy and GDP with scatterplots.\n",
    "\n",
    "A basic scatterplot is set up by assigning two continuous variables to the `x` and `y` aesthetic attributes then we can add the points in another layer.\n"
   ]
  },
  {
   "cell_type": "code",
   "execution_count": null,
   "id": "a0bfffc5-2c61-4574-b42e-5c51008b1b27",
   "metadata": {},
   "outputs": [],
   "source": []
  },
  {
   "cell_type": "markdown",
   "id": "6108cff2-1893-4517-8868-2537dc000182",
   "metadata": {},
   "source": [
    "Or, color them by continent."
   ]
  },
  {
   "cell_type": "code",
   "execution_count": null,
   "id": "959e1d29-40b9-4419-8e2f-5741d4c05c0e",
   "metadata": {},
   "outputs": [],
   "source": [
    "# Color by continent\n"
   ]
  },
  {
   "cell_type": "markdown",
   "id": "b56d3d70-5b8b-44c3-a766-aeca84d3cafe",
   "metadata": {},
   "source": [
    "For a better look, we can also add a smoothed curve for all the data:"
   ]
  },
  {
   "cell_type": "code",
   "execution_count": null,
   "id": "79594f21-f998-4a9f-a56b-9577c0b13a2d",
   "metadata": {},
   "outputs": [],
   "source": [
    "# Add smoothed curve for each continent\n"
   ]
  },
  {
   "cell_type": "code",
   "execution_count": null,
   "id": "0998d51f-da1f-409b-9b1b-42814a38bbc8",
   "metadata": {},
   "outputs": [],
   "source": [
    "# One smoothed curve for all continents\n"
   ]
  },
  {
   "cell_type": "markdown",
   "id": "00f5d6b3-0d3c-47e2-95e9-dbd81cda49d2",
   "metadata": {},
   "source": [
    "As we have seen earlier about GDP, this variable is better plotted on a log scale:"
   ]
  },
  {
   "cell_type": "code",
   "execution_count": null,
   "id": "3aa19585-0b46-4d2a-9c41-e14b07bd9c9b",
   "metadata": {},
   "outputs": [],
   "source": [
    "# Log scale for each continent\n"
   ]
  },
  {
   "cell_type": "code",
   "execution_count": null,
   "id": "7342d89a-9e34-4bfc-bafa-f3cc63f3fd0f",
   "metadata": {},
   "outputs": [],
   "source": [
    "# Log scale for all continents\n"
   ]
  },
  {
   "cell_type": "markdown",
   "id": "8d97fce0-8baa-484e-8718-826012ac85fc",
   "metadata": {},
   "source": [
    "### Customizing the Plot\n",
    "\n",
    "Adjusting scale labels, legend position, and theme.\n",
    "\n",
    "The last plot, on the log scale has ugly labels (written in scientific notation), let’s try to adjust the scale:"
   ]
  },
  {
   "cell_type": "code",
   "execution_count": null,
   "id": "48ccdedc-20e1-4a83-a578-2006aa8449c7",
   "metadata": {},
   "outputs": [],
   "source": [
    "from plotnine import scale_x_log10, theme_bw\n",
    "\n",
    "# Adjusting scale labels\n"
   ]
  },
  {
   "cell_type": "markdown",
   "id": "e804256d-ec1c-42d8-9e6b-3af957765c5d",
   "metadata": {},
   "source": [
    "Moving the legends inside the plot:"
   ]
  },
  {
   "cell_type": "code",
   "execution_count": null,
   "id": "96ef6a65-1ea1-4367-b26c-c534d98c5372",
   "metadata": {},
   "outputs": [],
   "source": [
    "# Placing legend inside the plot\n"
   ]
  },
  {
   "cell_type": "markdown",
   "id": "1c21ca76-9fe7-4b61-87ad-43b76bc856df",
   "metadata": {},
   "source": [
    "Changing the theme:"
   ]
  },
  {
   "cell_type": "code",
   "execution_count": null,
   "id": "c1d83334-e31c-4e5f-8f41-9dafed28dae7",
   "metadata": {},
   "outputs": [],
   "source": []
  },
  {
   "cell_type": "markdown",
   "id": "601c7f66",
   "metadata": {},
   "source": [
    "What happened to our legend? How can we fix it?"
   ]
  },
  {
   "cell_type": "code",
   "execution_count": null,
   "id": "f08cf15b",
   "metadata": {},
   "outputs": [],
   "source": []
  },
  {
   "cell_type": "markdown",
   "id": "19b02432-432b-4da7-9872-ea2c324245fc",
   "metadata": {},
   "source": [
    "Replacing the single loess smoothed curve with a separate regression line for each continent:"
   ]
  },
  {
   "cell_type": "code",
   "execution_count": null,
   "id": "e6a6cd5b-c0bf-46db-8c39-d51e4de5b675",
   "metadata": {},
   "outputs": [],
   "source": [
    "#smoothing by a regression line for each continent\n"
   ]
  },
  {
   "cell_type": "markdown",
   "id": "0c4cb4fa-c707-416b-b1ae-0cbbbee8c188",
   "metadata": {},
   "source": [
    "Let's make a “bubble” plot by mapping the `size` of each point to population (`pop`). We'll keep the legend outside the plot for this example."
   ]
  },
  {
   "cell_type": "code",
   "execution_count": null,
   "id": "6996cc7d-bd1f-4cee-8dc7-33733fe7034c",
   "metadata": {},
   "outputs": [],
   "source": []
  },
  {
   "cell_type": "markdown",
   "id": "bacfa901-15c9-4655-b56a-5ce14c6d037b",
   "metadata": {},
   "source": [
    "Changing color transparency:"
   ]
  },
  {
   "cell_type": "code",
   "execution_count": null,
   "id": "ed1ec005-f897-4765-aa98-20d127d26634",
   "metadata": {},
   "outputs": [],
   "source": []
  },
  {
   "cell_type": "markdown",
   "id": "1e7aef21-6a4b-444a-ad9e-31d3cdc96e89",
   "metadata": {},
   "source": [
    "### Exploring Life Expectancy by Continent for a Given Year\n",
    "\n",
    "Filtering data to show life expectancy for the year 2007.\n"
   ]
  },
  {
   "cell_type": "code",
   "execution_count": null,
   "id": "7a9f0ec1-793b-4e33-9c78-f8c0742c4d80",
   "metadata": {},
   "outputs": [],
   "source": [
    "# Filter data for 2007\n",
    "gm_2007 = gapminder[gapminder['year'] == 2007]\n",
    "\n",
    "# Plot life expectancy by continent\n",
    "gm_2007_plot = (ggplot(gm_2007, aes(y='lifeExp', x='continent'))\n",
    "                + geom_point())\n",
    "gm_2007_plot.show()"
   ]
  },
  {
   "cell_type": "code",
   "execution_count": null,
   "id": "121cbc46-08b7-471b-b7a5-d80aa17ceb7e",
   "metadata": {},
   "outputs": [],
   "source": [
    "# Changing scale by jittering\n",
    "# Plot with jitter\n"
   ]
  },
  {
   "cell_type": "markdown",
   "id": "1612bca5-604f-415b-b317-dbd5173f3bc6",
   "metadata": {},
   "source": [
    "## Advanced Customized and Fancy Plot\n",
    "\n",
    "Exploring GDP versus life expectancy in 2007 with highlighting the larger countries filter our data."
   ]
  },
  {
   "cell_type": "code",
   "execution_count": null,
   "id": "ec53c838-bce9-4298-b41e-879971799fce",
   "metadata": {
    "editable": true,
    "slideshow": {
     "slide_type": ""
    },
    "tags": []
   },
   "outputs": [],
   "source": [
    "# Advanced customized bubble plot\n",
    "\n",
    "advanced_bubble_plot = (\n",
    "    ggplot(gm_2007)\n",
    "    + geom_point(aes(x='gdpPercap', y='lifeExp', color='continent', size='pop'), alpha=0.5)\n",
    "    + geom_text(aes(x='gdpPercap', y='lifeExp', label='country'), color='gray', \n",
    "                data=gm_2007[(gm_2007['pop'] > 1000000000) | (gm_2007['country'].isin(['Nigeria', 'United States']))])\n",
    "    + scale_x_log10(limits=(200, 60000))\n",
    "    + labs(title='GDP versus life expectancy in 2007',\n",
    "           x='GDP per capita (log scale)',\n",
    "           y='Life expectancy',\n",
    "           size='Population',\n",
    "           color='Continent')\n",
    "    + scale_size(range=[0.1, 10])\n",
    "    + guides(size='none') # Remove the legend for the size variable\n",
    "    + theme_classic()\n",
    "    + theme(legend_position='top',\n",
    "            axis_line=element_line(color='#D3D3D3'),\n",
    "            axis_ticks=element_line(color='#D3D3D3'))\n",
    "    + guides(color='legend') # Add a legend for the color variable\n",
    ")\n",
    "\n",
    "advanced_bubble_plot.show()"
   ]
  }
 ],
 "metadata": {
  "custom_css": "body { background: white; } .code_cell .input_area { background: white; color: black; } .text_cell_render { background: white; color: black; }",
  "kernelspec": {
   "display_name": "Python 3",
   "language": "python",
   "name": "python3"
  },
  "language_info": {
   "codemirror_mode": {
    "name": "ipython",
    "version": 3
   },
   "file_extension": ".py",
   "mimetype": "text/x-python",
   "name": "python",
   "nbconvert_exporter": "python",
   "pygments_lexer": "ipython3",
   "version": "3.10.12"
  }
 },
 "nbformat": 4,
 "nbformat_minor": 5
}
